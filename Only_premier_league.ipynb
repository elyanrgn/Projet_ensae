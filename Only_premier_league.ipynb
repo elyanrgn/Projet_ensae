{
 "cells": [
  {
   "cell_type": "code",
   "execution_count": 1,
   "metadata": {},
   "outputs": [],
   "source": [
    "import pandas as pd\n"
   ]
  },
  {
   "cell_type": "code",
   "execution_count": 4,
   "metadata": {},
   "outputs": [],
   "source": [
    "id_league = \"GB1\"\n",
    "\n",
    "df_clubs = pd.read_csv(\"clubs.csv\")\n",
    "\n",
    "df_clubs_to_keep = df_clubs[df_clubs[\"domestic_competition_id\"] == id_league]\n",
    "\n",
    "df_clubs_to_keep.to_csv(\"clubs_premier_league.csv\")"
   ]
  },
  {
   "cell_type": "code",
   "execution_count": 12,
   "metadata": {},
   "outputs": [
    {
     "name": "stdout",
     "output_type": "stream",
     "text": [
      "Le tableau a été sauvegardé au format CSV avec succès !\n"
     ]
    },
    {
     "name": "stderr",
     "output_type": "stream",
     "text": [
      "C:\\Users\\elyan\\AppData\\Local\\Temp\\ipykernel_20440\\601885309.py:21: FutureWarning: Passing literal html to 'read_html' is deprecated and will be removed in a future version. To read from a literal string, wrap it in a 'StringIO' object.\n",
      "  df = pd.read_html(str(table))[0]\n"
     ]
    }
   ],
   "source": [
    "import pandas as pd\n",
    "import requests\n",
    "from bs4 import BeautifulSoup\n",
    "\n",
    "# URL de la page contenant le tableau\n",
    "url = \"https://fbref.com/fr/comps/9/2016-2017/calendrier/Calendrier-et-resultats-2016-2017-Premier-League\"\n",
    "\n",
    "# Envoi de la requête GET pour récupérer le contenu de la page\n",
    "response = requests.get(url)\n",
    "response.raise_for_status()\n",
    "\n",
    "# Analyse HTML de la page\n",
    "soup = BeautifulSoup(response.text, 'html.parser')\n",
    "\n",
    "# Recherche du tableau spécifique (généralement avec une classe ou un ID unique)\n",
    "table = soup.find('table', {'id': 'sched_2016-2017_9_1'})  # a modifier selon l'id que l'on veut \n",
    "\n",
    "# Vérification que le tableau est trouvé\n",
    "if table:\n",
    "    # Conversion du tableau HTML en DataFrame pandas\n",
    "    df = pd.read_html(str(table))[0]\n",
    "    \n",
    "    # Enregistrement du tableau au format CSV\n",
    "    df.to_csv('Calendrier_et_resultats_2016-2017_Premier_League.csv', index=False, encoding='utf-8')\n",
    "    print(\"Le tableau a été sauvegardé au format CSV avec succès !\")\n",
    "else:\n",
    "    print(\"Le tableau n'a pas été trouvé sur la page.\")\n"
   ]
  },
  {
   "cell_type": "code",
   "execution_count": null,
   "metadata": {},
   "outputs": [
    {
     "name": "stdout",
     "output_type": "stream",
     "text": [
      "2016-2017\n",
      "2017-2018\n",
      "2018-2019\n",
      "2019-2020\n",
      "2020-2021\n",
      "2021-2022\n",
      "2022-2023\n",
      "2023-2024\n"
     ]
    }
   ],
   "source": [
    "import pandas as pd\n",
    "import requests\n",
    "from bs4 import BeautifulSoup\n",
    "\n",
    "#annee\n",
    "year=2016\n",
    "\n",
    "for i in range(8):\n",
    "    date = f'{year}-{year+1}'\n",
    "    year +=1\n",
    "    # URL de la page contenant le tableau\n",
    "    url = f\"https://fbref.com/fr/comps/9/{date}/calendrier/Calendrier-et-resultats-{date}-Premier-League\"\n",
    "\n",
    "\n",
    "\n",
    "    response = requests.get(url)\n",
    "    response.raise_for_status()\n",
    "\n",
    "    # Analyse HTML de la page\n",
    "    soup = BeautifulSoup(response.text, 'html.parser')\n",
    "\n",
    "    # Recherche du tableau spécifique (généralement avec une classe ou un ID unique)\n",
    "    table = soup.find('table', {'id': f'sched_{date}_9_1'})  # a modifier selon l'id que l'on veut \n",
    "\n",
    "    # Vérification que le tableau est trouvé\n",
    "    if table:\n",
    "        # Conversion du tableau HTML en DataFrame pandas\n",
    "        df = pd.read_html(str(table))[0]\n",
    "    \n",
    "        # Enregistrement du tableau au format CSV\n",
    "        df.to_csv(f'Calendrier_et_resultats_{date}_Premier_League.csv', index=False, encoding='utf-8')\n",
    "        print(\"Le tableau a été sauvegardé au format CSV avec succès !\")\n",
    "    else:\n",
    "        print(\"Le tableau n'a pas été trouvé sur la page.\")\n",
    "\n"
   ]
  }
 ],
 "metadata": {
  "kernelspec": {
   "display_name": "Python 3",
   "language": "python",
   "name": "python3"
  },
  "language_info": {
   "codemirror_mode": {
    "name": "ipython",
    "version": 3
   },
   "file_extension": ".py",
   "mimetype": "text/x-python",
   "name": "python",
   "nbconvert_exporter": "python",
   "pygments_lexer": "ipython3",
   "version": "3.11.9"
  }
 },
 "nbformat": 4,
 "nbformat_minor": 2
}
