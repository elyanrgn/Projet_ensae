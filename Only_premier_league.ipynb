{
 "cells": [
  {
   "cell_type": "code",
   "execution_count": 4,
   "metadata": {},
   "outputs": [],
   "source": [
    "import pandas as pd\n",
    "import requests\n",
    "from bs4 import BeautifulSoup\n",
    "import time\n",
    "import numpy as np\n",
    "##On scrape les données de la page fbref afin d'obtenir les données des saisons de 2016 à 2025"
   ]
  },
  {
   "cell_type": "code",
   "execution_count": 2,
   "metadata": {},
   "outputs": [
    {
     "name": "stderr",
     "output_type": "stream",
     "text": [
      "C:\\Users\\elyan\\AppData\\Local\\Temp\\ipykernel_7812\\4178578820.py:25: FutureWarning: Passing literal html to 'read_html' is deprecated and will be removed in a future version. To read from a literal string, wrap it in a 'StringIO' object.\n",
      "  df = pd.read_html(str(table))[0]\n"
     ]
    },
    {
     "name": "stdout",
     "output_type": "stream",
     "text": [
      "Le tableau a été sauvegardé au format CSV avec succès !\n"
     ]
    },
    {
     "name": "stderr",
     "output_type": "stream",
     "text": [
      "C:\\Users\\elyan\\AppData\\Local\\Temp\\ipykernel_7812\\4178578820.py:25: FutureWarning: Passing literal html to 'read_html' is deprecated and will be removed in a future version. To read from a literal string, wrap it in a 'StringIO' object.\n",
      "  df = pd.read_html(str(table))[0]\n"
     ]
    },
    {
     "name": "stdout",
     "output_type": "stream",
     "text": [
      "Le tableau a été sauvegardé au format CSV avec succès !\n"
     ]
    },
    {
     "name": "stderr",
     "output_type": "stream",
     "text": [
      "C:\\Users\\elyan\\AppData\\Local\\Temp\\ipykernel_7812\\4178578820.py:25: FutureWarning: Passing literal html to 'read_html' is deprecated and will be removed in a future version. To read from a literal string, wrap it in a 'StringIO' object.\n",
      "  df = pd.read_html(str(table))[0]\n"
     ]
    },
    {
     "name": "stdout",
     "output_type": "stream",
     "text": [
      "Le tableau a été sauvegardé au format CSV avec succès !\n"
     ]
    },
    {
     "name": "stderr",
     "output_type": "stream",
     "text": [
      "C:\\Users\\elyan\\AppData\\Local\\Temp\\ipykernel_7812\\4178578820.py:25: FutureWarning: Passing literal html to 'read_html' is deprecated and will be removed in a future version. To read from a literal string, wrap it in a 'StringIO' object.\n",
      "  df = pd.read_html(str(table))[0]\n"
     ]
    },
    {
     "name": "stdout",
     "output_type": "stream",
     "text": [
      "Le tableau a été sauvegardé au format CSV avec succès !\n"
     ]
    },
    {
     "name": "stderr",
     "output_type": "stream",
     "text": [
      "C:\\Users\\elyan\\AppData\\Local\\Temp\\ipykernel_7812\\4178578820.py:25: FutureWarning: Passing literal html to 'read_html' is deprecated and will be removed in a future version. To read from a literal string, wrap it in a 'StringIO' object.\n",
      "  df = pd.read_html(str(table))[0]\n"
     ]
    },
    {
     "name": "stdout",
     "output_type": "stream",
     "text": [
      "Le tableau a été sauvegardé au format CSV avec succès !\n"
     ]
    },
    {
     "name": "stderr",
     "output_type": "stream",
     "text": [
      "C:\\Users\\elyan\\AppData\\Local\\Temp\\ipykernel_7812\\4178578820.py:25: FutureWarning: Passing literal html to 'read_html' is deprecated and will be removed in a future version. To read from a literal string, wrap it in a 'StringIO' object.\n",
      "  df = pd.read_html(str(table))[0]\n"
     ]
    },
    {
     "name": "stdout",
     "output_type": "stream",
     "text": [
      "Le tableau a été sauvegardé au format CSV avec succès !\n"
     ]
    },
    {
     "name": "stderr",
     "output_type": "stream",
     "text": [
      "C:\\Users\\elyan\\AppData\\Local\\Temp\\ipykernel_7812\\4178578820.py:25: FutureWarning: Passing literal html to 'read_html' is deprecated and will be removed in a future version. To read from a literal string, wrap it in a 'StringIO' object.\n",
      "  df = pd.read_html(str(table))[0]\n"
     ]
    },
    {
     "name": "stdout",
     "output_type": "stream",
     "text": [
      "Le tableau a été sauvegardé au format CSV avec succès !\n"
     ]
    },
    {
     "name": "stderr",
     "output_type": "stream",
     "text": [
      "C:\\Users\\elyan\\AppData\\Local\\Temp\\ipykernel_7812\\4178578820.py:25: FutureWarning: Passing literal html to 'read_html' is deprecated and will be removed in a future version. To read from a literal string, wrap it in a 'StringIO' object.\n",
      "  df = pd.read_html(str(table))[0]\n"
     ]
    },
    {
     "name": "stdout",
     "output_type": "stream",
     "text": [
      "Le tableau a été sauvegardé au format CSV avec succès !\n",
      "Le tableau a été sauvegardé au format CSV avec succès !\n"
     ]
    },
    {
     "name": "stderr",
     "output_type": "stream",
     "text": [
      "C:\\Users\\elyan\\AppData\\Local\\Temp\\ipykernel_7812\\4178578820.py:25: FutureWarning: Passing literal html to 'read_html' is deprecated and will be removed in a future version. To read from a literal string, wrap it in a 'StringIO' object.\n",
      "  df = pd.read_html(str(table))[0]\n"
     ]
    }
   ],
   "source": [
    "#annee\n",
    "year=2016\n",
    "\n",
    "for i in range(9):\n",
    "    date = f'{year}-{year+1}'\n",
    "    year +=1\n",
    "    # URL de la page contenant le tableau\n",
    "    url = f\"https://fbref.com/fr/comps/9/{date}/calendrier/Calendrier-et-resultats-{date}-Premier-League\"\n",
    "\n",
    "\n",
    "\n",
    "    response = requests.get(url)\n",
    "    response.raise_for_status()\n",
    "\n",
    "    # Analyse HTML de la page\n",
    "    soup = BeautifulSoup(response.text, 'html.parser')\n",
    "\n",
    "    # Recherche du tableau spécifique (généralement avec une classe ou un ID unique)\n",
    "    table = soup.find('table', {'id': f'sched_{date}_9_1'})  # a modifier selon l'id que l'on veut \n",
    "    time.sleep(10)\n",
    "\n",
    "    # Vérification que le tableau est trouvé\n",
    "    if table:\n",
    "        # Conversion du tableau HTML en DataFrame pandas\n",
    "        df = pd.read_html(str(table))[0]\n",
    "    \n",
    "        # Enregistrement du tableau au format CSV\n",
    "        df.to_csv(f'Calendrier_et_resultats_{date}_Premier_League.csv', index=False, encoding='utf-8')\n",
    "        print(\"Le tableau a été sauvegardé au format CSV avec succès !\")\n",
    "    else:\n",
    "        print(\"Le tableau n'a pas été trouvé sur la page.\")\n",
    "\n"
   ]
  },
  {
   "cell_type": "code",
   "execution_count": 3,
   "metadata": {},
   "outputs": [],
   "source": [
    "#On ajoute les données de chaque saison dans un seul fichier csv\n",
    "df = pd.read_csv(\"Calendrier_et_resultats_2016-2017_Premier_League.csv\")\n",
    "\n",
    "for k in range(2017,2025):\n",
    "    df1 = pd.read_csv(f\"Calendrier_et_resultats_{k}-{k+1}_Premier_League.csv\")\n",
    "    df = pd.concat([df,df1])\n",
    "\n",
    "df.to_csv(\"Calendrier_et_resultats_Premier_League.csv\", index=False)"
   ]
  },
  {
   "cell_type": "code",
   "execution_count": 5,
   "metadata": {},
   "outputs": [],
   "source": [
    "#On supprime les lignes qui ne contiennent pas de données\n",
    "df = pd.read_csv(\"Calendrier_et_resultats_Premier_League.csv\")\n",
    "\n",
    "list_to_del = []\n",
    "for i in range(len(df)):\n",
    "    if np.isnan(df.loc[i,\"Sem.\"]):\n",
    "        list_to_del.append(i)"
   ]
  },
  {
   "cell_type": "code",
   "execution_count": null,
   "metadata": {},
   "outputs": [],
   "source": [
    "#On supprime les colonnes inutiles ou dures à traiter\n",
    "df.drop(list_to_del, inplace=True)\n",
    "df.drop(columns=[\"Sem.\",\"Jour\", \"Rapport de match\",\"Heure\"], inplace=True)\n",
    "\n",
    "df.set_index(\"Date\", inplace=True)\n",
    "df.index = pd.to_datetime(df.index)\n",
    "\n",
    "df.to_csv(\"Calendrier_et_resultats_Premier_League.csv\", index=True)"
   ]
  },
  {
   "cell_type": "code",
   "execution_count": 16,
   "metadata": {},
   "outputs": [],
   "source": [
    "#On découpe le fichier en deux, la saison en cours avec les matchs non joués et les saisons avec les matchs joués\n",
    "df = pd.read_csv(\"Calendrier_et_resultats_Premier_League.csv\")\n",
    "\n",
    "df2 = df.loc[:3209]\n",
    "\n",
    "df3 = df.loc[3210:]\n",
    "\n",
    "\n",
    "df2.to_csv(\"Calendrier_et_resultats_Premier_League_clean.csv\", index=False)\n",
    "df3.to_csv(\"Calendrier_et_resultats_Premier_League_test.csv\", index=False)\n",
    "\n"
   ]
  },
  {
   "cell_type": "code",
   "execution_count": 18,
   "metadata": {},
   "outputs": [],
   "source": [
    "#On ajoute la fonction qui permet de déterminer le vainqueur du match\n",
    "df2 = pd.read_csv(\"Calendrier_et_resultats_Premier_League_clean.csv\")\n",
    "df2[\"Score\"] = df2[\"Score\"].fillna(\"0–0\").astype(str)\n",
    "df2.fillna(0, inplace=True)\n",
    "\n",
    "df2[\"winner\"] = df2[\"Score\"].str.split(\"–\").apply(lambda x: 1 if x[0] > x[1] else ( -1 if x[0] < x[1] else 0))\n",
    "\n",
    "df2.to_csv(\"Calendrier_et_resultats_Premier_League_clean.csv\", index=False)\n"
   ]
  }
 ],
 "metadata": {
  "kernelspec": {
   "display_name": "Python 3",
   "language": "python",
   "name": "python3"
  },
  "language_info": {
   "codemirror_mode": {
    "name": "ipython",
    "version": 3
   },
   "file_extension": ".py",
   "mimetype": "text/x-python",
   "name": "python",
   "nbconvert_exporter": "python",
   "pygments_lexer": "ipython3",
   "version": "3.11.9"
  }
 },
 "nbformat": 4,
 "nbformat_minor": 2
}
